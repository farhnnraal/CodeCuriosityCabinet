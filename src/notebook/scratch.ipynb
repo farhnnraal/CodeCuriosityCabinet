{
 "cells": [
  {
   "cell_type": "code",
   "execution_count": null,
   "metadata": {},
   "outputs": [],
   "source": [
    "import random\n",
    "\n",
    "class TestRequest:\n",
    "  def __init__(self) -> None:\n",
    "    self.user = {}\n",
    "  \n",
    "  def createAccount(self, name: str):\n",
    "    uniqueUserCode = len(self.user) + 1\n",
    "      "
   ]
  },
  {
   "cell_type": "code",
   "execution_count": 57,
   "metadata": {},
   "outputs": [
    {
     "name": "stdout",
     "output_type": "stream",
     "text": [
      "6\n",
      "7\n"
     ]
    }
   ],
   "source": [
    "user = [\n",
    "  1, 2, 3, 4, 5, 6\n",
    "]\n",
    "\n",
    "uniqueUserCode = len(user) + 1\n",
    "\n",
    "print(len(user))\n",
    "print(uniqueUserCode)"
   ]
  }
 ],
 "metadata": {
  "kernelspec": {
   "display_name": "Python 3",
   "language": "python",
   "name": "python3"
  },
  "language_info": {
   "codemirror_mode": {
    "name": "ipython",
    "version": 3
   },
   "file_extension": ".py",
   "mimetype": "text/x-python",
   "name": "python",
   "nbconvert_exporter": "python",
   "pygments_lexer": "ipython3",
   "version": "3.12.2"
  }
 },
 "nbformat": 4,
 "nbformat_minor": 2
}
